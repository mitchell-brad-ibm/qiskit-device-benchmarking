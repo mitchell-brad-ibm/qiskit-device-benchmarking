{
 "cells": [
  {
   "cell_type": "code",
   "execution_count": null,
   "metadata": {},
   "outputs": [],
   "source": [
    "%load_ext autoreload\n",
    "%autoreload 2\n",
    "\n",
    "import pandas as pd\n",
    "import numpy as np\n",
    "import matplotlib.pyplot as plt"
   ]
  },
  {
   "cell_type": "code",
   "execution_count": null,
   "metadata": {},
   "outputs": [],
   "source": [
    "import sys\n",
    "sys.path.append('../qiskit_device_benchmarking/')"
   ]
  },
  {
   "cell_type": "code",
   "execution_count": null,
   "metadata": {},
   "outputs": [],
   "source": [
    "from qiskit_ibm_provider import IBMProvider\n",
    "# from qiskit import IBMQ\n",
    "# IBMQ.load_account()\n",
    "\n",
    "provider =IBMProvider()\n",
    "backend = provider.get_backend('ibm_torino')\n",
    "backend.status()"
   ]
  },
  {
   "cell_type": "code",
   "execution_count": null,
   "metadata": {},
   "outputs": [],
   "source": [
    "from qiskit_aer import AerSimulator\n",
    "\n",
    "backend_sim = AerSimulator.from_backend(backend)\n",
    "backend = backend_sim"
   ]
  },
  {
   "cell_type": "code",
   "execution_count": null,
   "metadata": {},
   "outputs": [],
   "source": [
    "# from bell_experiment import get_bell_layers\n",
    "from bench_code.bell.partition import partition_qubit_pairs,partition_qubits\n",
    "from bench_code.bell.bell_experiment import BellExperiment\n",
    "qubits_nns = partition_qubits(backend,distance=2)\n",
    "qubits_nnns = partition_qubits(backend,distance=3)\n",
    "layered_coupling_map =  partition_qubit_pairs(backend,distance=2)"
   ]
  },
  {
   "cell_type": "code",
   "execution_count": null,
   "metadata": {},
   "outputs": [],
   "source": [
    "from qiskit_experiments.library import T2Ramsey,Tphi,T1,StandardRB\n",
    "\n",
    "# Time intervals to wait before measurement for t1 and t2\n",
    "delays_t1 = np.arange(1e-6, 300e-6, 15e-6)\n",
    "delays_t1 = [0] + list(np.logspace(np.log10(10e-9),np.log10(200e-6),41))\n",
    "\n",
    "delays_t2 = [0] + np.arange(1e-6, 300e-6, 15e-6).tolist()\n",
    "num_periods = 5\n",
    "max_T = delays_t2[-1]\n",
    "osc_freq = num_periods/(max_T)"
   ]
  },
  {
   "cell_type": "code",
   "execution_count": null,
   "metadata": {},
   "outputs": [],
   "source": [
    "from qiskit_experiments.framework import ParallelExperiment, BatchExperiment\n",
    "\n",
    "exp_batches = []\n",
    "for qubits in qubits_nns:\n",
    "    coh_exps = ParallelExperiment([\n",
    "        Tphi((int(qubit),), delays_t1=delays_t1,delays_t2=delays_t2,t2type='ramsey',osc_freq=osc_freq,backend=backend)\n",
    "        for qubit in np.array(qubits).flatten()\n",
    "    ], flatten_results=True)\n",
    "    exp_batches.append(coh_exps)\n"
   ]
  },
  {
   "cell_type": "code",
   "execution_count": null,
   "metadata": {},
   "outputs": [],
   "source": [
    "from bell_experiment import BellExperiment\n",
    "bell_exp = BellExperiment(layered_coupling_map,backend=backend)"
   ]
  },
  {
   "cell_type": "code",
   "execution_count": null,
   "metadata": {},
   "outputs": [],
   "source": [
    "exp_batches.append(bell_exp)"
   ]
  },
  {
   "cell_type": "code",
   "execution_count": null,
   "metadata": {},
   "outputs": [],
   "source": [
    "batch_exp = BatchExperiment(exp_batches,backend=backend,flatten_results=True)"
   ]
  },
  {
   "cell_type": "code",
   "execution_count": null,
   "metadata": {},
   "outputs": [],
   "source": [
    "batch_exp_data = batch_exp.run()"
   ]
  },
  {
   "cell_type": "code",
   "execution_count": null,
   "metadata": {},
   "outputs": [],
   "source": [
    "batch_exp_data.status()"
   ]
  },
  {
   "cell_type": "code",
   "execution_count": null,
   "metadata": {},
   "outputs": [],
   "source": [
    "i=1\n",
    "print(batch_exp_data.figure(i).metadata)\n",
    "batch_exp_data.figure(i).figure"
   ]
  }
 ],
 "metadata": {
  "kernelspec": {
   "display_name": "pec-runtime-2",
   "language": "python",
   "name": "python3"
  },
  "language_info": {
   "codemirror_mode": {
    "name": "ipython",
    "version": 3
   },
   "file_extension": ".py",
   "mimetype": "text/x-python",
   "name": "python",
   "nbconvert_exporter": "python",
   "pygments_lexer": "ipython3",
   "version": "3.9.19"
  },
  "orig_nbformat": 4
 },
 "nbformat": 4,
 "nbformat_minor": 2
}
